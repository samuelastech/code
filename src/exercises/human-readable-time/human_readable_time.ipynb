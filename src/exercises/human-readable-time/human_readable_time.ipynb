{
 "cells": [
  {
   "cell_type": "markdown",
   "id": "6a8be59f-8bab-43b1-b6fe-ffd71be4006d",
   "metadata": {},
   "source": [
    "# Human Readable Time\n",
    "---"
   ]
  },
  {
   "cell_type": "markdown",
   "id": "c906452c-aa83-4c26-b8e8-a809135f3797",
   "metadata": {},
   "source": [
    "Write a function, which takes a non-negative integer (seconds) as input and returns the time in a human-readable format (`HH:MM:SS`).\n",
    "\n",
    "- `HH` = hours, padded to 2 digits, range: 00 - 99\n",
    "- `MM` = minutes, padded to 2 digits, range: 00 - 59\n",
    "- `SS` = seconds, padded to 2 digits, range: 00 - 59\n",
    "The maximum time never exceeds 359999 (`99:59:59`)\n",
    "\n",
    "You can find some examples in the test fixtures."
   ]
  },
  {
   "cell_type": "markdown",
   "id": "3206fc47-dcf8-4af6-a812-1189827b0cd0",
   "metadata": {},
   "source": [
    "## Solution\n",
    "---"
   ]
  },
  {
   "cell_type": "code",
   "execution_count": 1,
   "id": "f4a08fcf-5333-45fb-9c9d-b50bcfafd513",
   "metadata": {
    "tags": []
   },
   "outputs": [
    {
     "data": {
      "text/plain": [
       "56"
      ]
     },
     "execution_count": 1,
     "metadata": {},
     "output_type": "execute_result"
    }
   ],
   "source": [
    "let mm = 0;\n",
    "let hh = 0;\n",
    "let ss = 0;\n",
    "let seconds = 45296; // 12hs 34m 56s\n",
    "\n",
    "while(seconds >= 60) {\n",
    "    seconds -= 60;\n",
    "    if(mm === 59){\n",
    "      mm = 0;\n",
    "      hh++;\n",
    "    } else {\n",
    "      mm++\n",
    "    }\n",
    "}\n",
    "\n",
    "ss = seconds;"
   ]
  },
  {
   "cell_type": "markdown",
   "id": "0d19f446-0ddd-4c31-b336-f3358b014f25",
   "metadata": {},
   "source": [
    "This is a $ O(\\log n) $ algorithm. I subtracted 60 seconds from the input size in each iteration. By doing that, I incremented a variable called `mm` — every 60 seconds, one minute has passed. Also, I checked in each iteration if the `mm` variable was equal to 59 minutes, indicating that one hour has passed. Finally, we just take the remaining seconds — once the `seconds >= 60` condition is satisfied, we know that there are no minutes or hours left."
   ]
  },
  {
   "cell_type": "code",
   "execution_count": 2,
   "id": "a9d0fe11-5b05-4433-8acd-0301c4f9c583",
   "metadata": {
    "tags": []
   },
   "outputs": [
    {
     "data": {
      "text/plain": [
       "'12:34:56'"
      ]
     },
     "execution_count": 2,
     "metadata": {},
     "output_type": "execute_result"
    }
   ],
   "source": [
    "[hh, mm, ss].map(item => {\n",
    "    return item.toString().length === 1 ? 0 + item.toString() : item;\n",
    "}).join(':');"
   ]
  },
  {
   "cell_type": "markdown",
   "id": "20cf12e3-242e-491a-af55-a85c1a583cf3",
   "metadata": {},
   "source": [
    "To conclude, that is a $ O(1)$ once the size of the input will always be three. We take the hours, minutes, and seconds and check if each has only one digit, if so, we add a leading zero to make them equal in size."
   ]
  },
  {
   "cell_type": "markdown",
   "id": "2d3b2ae4-c660-415f-9774-e4b765031ac0",
   "metadata": {},
   "source": [
    "# Reference\n",
    "---"
   ]
  },
  {
   "cell_type": "markdown",
   "id": "97211ec8-ab48-45c7-8816-b7ceba59849d",
   "metadata": {},
   "source": [
    "- https://www.codewars.com/kata/52685f7382004e774f0001f7"
   ]
  }
 ],
 "metadata": {
  "kernelspec": {
   "display_name": "JavaScript (Node.js)",
   "language": "javascript",
   "name": "javascript"
  },
  "language_info": {
   "file_extension": ".js",
   "mimetype": "application/javascript",
   "name": "javascript",
   "version": "19.6.0"
  }
 },
 "nbformat": 4,
 "nbformat_minor": 5
}
