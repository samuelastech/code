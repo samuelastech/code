{
 "cells": [
  {
   "cell_type": "markdown",
   "id": "ed28f2c4-e8f7-4a45-9fd5-37896e154843",
   "metadata": {},
   "source": [
    "# Disemvowel Trolls\n",
    "---"
   ]
  },
  {
   "cell_type": "markdown",
   "id": "67527f15-42fd-4655-94fc-497e9074e408",
   "metadata": {},
   "source": [
    "Trolls are attacking your comment section!"
   ]
  },
  {
   "cell_type": "markdown",
   "id": "a337bd95-494a-419c-937e-4fdb68feb7e7",
   "metadata": {},
   "source": [
    "A common way to deal with this situation is to remove all of the vowels from the trolls' comments, neutralizing the threat."
   ]
  },
  {
   "cell_type": "markdown",
   "id": "26f04131-b1c6-4464-be03-da6ea40f7375",
   "metadata": {},
   "source": [
    "Your task is to write a function that takes a string and return a new string with all vowels removed."
   ]
  },
  {
   "cell_type": "markdown",
   "id": "91ce00a5-7304-4c52-bc9a-4bf739736830",
   "metadata": {
    "tags": []
   },
   "source": [
    "For example, the string \"This website is for losers LOL!\" would become \"Ths wbst s fr lsrs LL!\"."
   ]
  },
  {
   "cell_type": "markdown",
   "id": "3c7bd8e1-8e1d-4021-b43b-943f966e0cbe",
   "metadata": {},
   "source": [
    "Note: for this [kata](https://www.codewars.com/kata/52fba66badcd10859f00097e/train/javascript) `y` isn't considered a vowel."
   ]
  },
  {
   "cell_type": "markdown",
   "id": "d4f0ad18-b1db-48df-bd3a-efa52e612a42",
   "metadata": {},
   "source": [
    "# Solution\n",
    "---"
   ]
  },
  {
   "cell_type": "code",
   "execution_count": 1,
   "id": "5bfe5c43-1906-44ef-8ede-1ec3f0007446",
   "metadata": {
    "tags": []
   },
   "outputs": [
    {
     "data": {
      "text/plain": [
       "'Ths wbst s fr lsrs LL!'"
      ]
     },
     "execution_count": 1,
     "metadata": {},
     "output_type": "execute_result"
    }
   ],
   "source": [
    "let text = \"This website is for losers LOL!\";\n",
    "\n",
    "function disemvowel(str) {\n",
    "  return str.replace(/a|e|i|o|u/ig, '');\n",
    "}\n",
    "\n",
    "disemvowel(text);"
   ]
  },
  {
   "cell_type": "markdown",
   "id": "1fb2fb36-ef4a-43d0-b79a-8b08e5572bda",
   "metadata": {},
   "source": [
    "I used the `str.replace()` method. MDN has a good explanation for this method:\n",
    "\n",
    "> The `replace()` method returns a new string with one, some, or all matches of a pattern replaced by a replacement. The pattern can be a string or a `RegExp`, and the replacement can be a string or a function called for each match. If pattern is a string, only the first occurrence will be replaced. The original string is left unchanged."
   ]
  },
  {
   "cell_type": "markdown",
   "id": "36d7b6d2-6385-4c29-9a0c-641c6a5fb0e0",
   "metadata": {},
   "source": [
    "The pattern I used was a `RegExp` and the replacement was a void string."
   ]
  },
  {
   "cell_type": "markdown",
   "id": "55969139-78a9-4510-ba1c-7f81ee06ef47",
   "metadata": {},
   "source": [
    "# References\n",
    "---"
   ]
  },
  {
   "cell_type": "markdown",
   "id": "fd55ea23-a6e4-42dc-8d5e-8115f99056a8",
   "metadata": {},
   "source": [
    "- https://www.codewars.com/kata/52fba66badcd10859f00097e/solutions/javascript;\n",
    "- https://developer.mozilla.org/en-US/docs/Web/JavaScript/Reference/Global_Objects/String/replace."
   ]
  }
 ],
 "metadata": {
  "kernelspec": {
   "display_name": "JavaScript (Node.js)",
   "language": "javascript",
   "name": "javascript"
  },
  "language_info": {
   "file_extension": ".js",
   "mimetype": "application/javascript",
   "name": "javascript",
   "version": "19.6.0"
  }
 },
 "nbformat": 4,
 "nbformat_minor": 5
}
