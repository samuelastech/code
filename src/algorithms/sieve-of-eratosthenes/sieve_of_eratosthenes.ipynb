{
 "cells": [
  {
   "cell_type": "markdown",
   "id": "a0bc852e-637b-47ad-a810-1b0892edd2aa",
   "metadata": {},
   "source": [
    "# Sieve of Erathostenes\n",
    "---"
   ]
  },
  {
   "cell_type": "markdown",
   "id": "4c4256f4-0e8a-4858-9a96-e5dd048bf561",
   "metadata": {},
   "source": [
    "Nicomachus of Gerasa introduced the Sieve of Eratosthenes — one of the first algorithms ever written the way we know it. The Sieve is used until nowadays."
   ]
  },
  {
   "cell_type": "markdown",
   "id": "297f878d-30cc-4f0d-a8f0-8e0b1a113788",
   "metadata": {},
   "source": [
    "What is the Sieve of Erathostenes anyway? It is a process of identifying **prime numbers**."
   ]
  },
  {
   "cell_type": "markdown",
   "id": "4635fc69-b3f2-482f-acc4-67bc0b2a6503",
   "metadata": {},
   "source": [
    "## Number: Composite vs. Prime\n",
    "---"
   ]
  },
  {
   "cell_type": "markdown",
   "id": "617f7c39-5503-4dfb-9078-16fb64170d6f",
   "metadata": {},
   "source": [
    "Prime numbers are natural numbers that have the following characteristics:\n",
    "- They are greater than one;\n",
    "- They cannot be formed by multiplying two smaller natural numbers;\n",
    "- They can be divided only by one and themselves."
   ]
  },
  {
   "cell_type": "markdown",
   "id": "3e52d247-27c6-4a72-af66-07528697304e",
   "metadata": {},
   "source": [
    "Composite numbers are the opposite of prime numbers:\n",
    "- They are greater than one;\n",
    "- They can be formed by multiplying two smaller natural numbers;\n",
    "- They can be divided by one, themselves, and at least one smaller number."
   ]
  },
  {
   "cell_type": "markdown",
   "id": "452cf88b-ea2a-40ec-8ce6-ee9a78649a58",
   "metadata": {},
   "source": [
    "## What is the Algorithm of the Sieve of Erathostenes?\n",
    "---"
   ]
  },
  {
   "cell_type": "markdown",
   "id": "3cf5a5bb-06e9-4483-8d41-4ec1a5467798",
   "metadata": {},
   "source": [
    "How does the Sieve of Eratosthenes find prime numbers? It does so by iteratively marking as composite the multiples of each prime, starting with the first prime number, 2. Rapidly, all the composite numbers will be marked, leaving only those that are prime."
   ]
  },
  {
   "cell_type": "markdown",
   "id": "c0a5e0e2-11bc-4694-8538-1abbf6670b10",
   "metadata": {},
   "source": [
    "This image shows it up:"
   ]
  },
  {
   "cell_type": "markdown",
   "id": "36aa4ce8-8586-495f-ba3a-46f51ce6896d",
   "metadata": {},
   "source": [
    "![image.gif](https://upload.wikimedia.org/wikipedia/commons/b/b9/Sieve_of_Eratosthenes_animation.gif)"
   ]
  },
  {
   "cell_type": "markdown",
   "id": "9edd00cd-e6a4-41a9-aa7c-317b83029972",
   "metadata": {},
   "source": [
    "## The algorithm in JavaScript\n",
    "---"
   ]
  },
  {
   "cell_type": "markdown",
   "id": "3fc44e7f-0624-47e9-91b4-f9330953bda8",
   "metadata": {},
   "source": [
    "Generating an array given an input `number`. Each position will be an array of two elements. The first one is the number properly, starting from two. The second one is the \"color\" that we will use to mark either that number is prime or composite — \"0\" represents a prime number, \"1\" represents the opposite —, \"0\" is the default value."
   ]
  },
  {
   "cell_type": "code",
   "execution_count": 1,
   "id": "63a09929-bc23-497f-9c47-68b7d45868a4",
   "metadata": {
    "collapsed": true,
    "jupyter": {
     "outputs_hidden": true
    },
    "tags": []
   },
   "outputs": [
    {
     "data": {
      "text/plain": [
       "[\n",
       "  [ 2, 0 ],  [ 3, 0 ],  [ 4, 0 ],   [ 5, 0 ],   [ 6, 0 ],  [ 7, 0 ],\n",
       "  [ 8, 0 ],  [ 9, 0 ],  [ 10, 0 ],  [ 11, 0 ],  [ 12, 0 ], [ 13, 0 ],\n",
       "  [ 14, 0 ], [ 15, 0 ], [ 16, 0 ],  [ 17, 0 ],  [ 18, 0 ], [ 19, 0 ],\n",
       "  [ 20, 0 ], [ 21, 0 ], [ 22, 0 ],  [ 23, 0 ],  [ 24, 0 ], [ 25, 0 ],\n",
       "  [ 26, 0 ], [ 27, 0 ], [ 28, 0 ],  [ 29, 0 ],  [ 30, 0 ], [ 31, 0 ],\n",
       "  [ 32, 0 ], [ 33, 0 ], [ 34, 0 ],  [ 35, 0 ],  [ 36, 0 ], [ 37, 0 ],\n",
       "  [ 38, 0 ], [ 39, 0 ], [ 40, 0 ],  [ 41, 0 ],  [ 42, 0 ], [ 43, 0 ],\n",
       "  [ 44, 0 ], [ 45, 0 ], [ 46, 0 ],  [ 47, 0 ],  [ 48, 0 ], [ 49, 0 ],\n",
       "  [ 50, 0 ], [ 51, 0 ], [ 52, 0 ],  [ 53, 0 ],  [ 54, 0 ], [ 55, 0 ],\n",
       "  [ 56, 0 ], [ 57, 0 ], [ 58, 0 ],  [ 59, 0 ],  [ 60, 0 ], [ 61, 0 ],\n",
       "  [ 62, 0 ], [ 63, 0 ], [ 64, 0 ],  [ 65, 0 ],  [ 66, 0 ], [ 67, 0 ],\n",
       "  [ 68, 0 ], [ 69, 0 ], [ 70, 0 ],  [ 71, 0 ],  [ 72, 0 ], [ 73, 0 ],\n",
       "  [ 74, 0 ], [ 75, 0 ], [ 76, 0 ],  [ 77, 0 ],  [ 78, 0 ], [ 79, 0 ],\n",
       "  [ 80, 0 ], [ 81, 0 ], [ 82, 0 ],  [ 83, 0 ],  [ 84, 0 ], [ 85, 0 ],\n",
       "  [ 86, 0 ], [ 87, 0 ], [ 88, 0 ],  [ 89, 0 ],  [ 90, 0 ], [ 91, 0 ],\n",
       "  [ 92, 0 ], [ 93, 0 ], [ 94, 0 ],  [ 95, 0 ],  [ 96, 0 ], [ 97, 0 ],\n",
       "  [ 98, 0 ], [ 99, 0 ], [ 100, 0 ], [ 101, 0 ],\n",
       "  ... 19 more items\n",
       "]"
      ]
     },
     "execution_count": 1,
     "metadata": {},
     "output_type": "execute_result"
    }
   ],
   "source": [
    "const generateArray = number => {\n",
    "    const numbers = [];\n",
    "\n",
    "    for (let i = 2; i <= Math.floor(number); i++) {\n",
    "        numbers[i-2] = [i, 0];\n",
    "    }\n",
    "\n",
    "    return numbers;\n",
    "};\n",
    "\n",
    "const numbers = generateArray(120);\n",
    "numbers;"
   ]
  },
  {
   "cell_type": "markdown",
   "id": "a0538eee-5ff6-44ab-bb3b-4a6602a72088",
   "metadata": {},
   "source": [
    "If the multiple of the prime number is bigger than the input, then we have already marked all the composite numbers. That is what the `numbers[j][0] * numbers[j][0] < numbers.length` statement means."
   ]
  },
  {
   "cell_type": "markdown",
   "id": "b9e0b609-c367-404f-afb0-d59331baf409",
   "metadata": {},
   "source": [
    "If the current number is not a prime we can skip it. That is what `if (numbers[j][1] === 1) continue;` means."
   ]
  },
  {
   "cell_type": "markdown",
   "id": "20a1a897-94b7-4a56-9bce-d5841331b5b9",
   "metadata": {},
   "source": [
    "The nested `for` looks for all composite numbers of a given prime."
   ]
  },
  {
   "cell_type": "code",
   "execution_count": 2,
   "id": "79055ff3-8997-4342-9bca-61cc29c1bf98",
   "metadata": {
    "tags": []
   },
   "outputs": [],
   "source": [
    "for (let j = 0; numbers[j][0] * numbers[j][0] < numbers.length; j++) {\n",
    "    if (numbers[j][1] === 1) continue;\n",
    "\n",
    "    // Composite numbers\n",
    "    for (let k = 0; k < numbers.length; k++) {\n",
    "        const composite = numbers[j][0] * numbers[k][0];\n",
    "        if (composite > numbers.length+1) break; // Goes to the next prime\n",
    "        const index = composite - 2;\n",
    "        numbers[index][1] = 1; // Marking the composite\n",
    "    }\n",
    "}"
   ]
  },
  {
   "cell_type": "code",
   "execution_count": 3,
   "id": "e22d4815-3426-465c-9f6a-e23832148cd2",
   "metadata": {
    "tags": []
   },
   "outputs": [
    {
     "name": "stdout",
     "output_type": "stream",
     "text": [
      "2\n",
      "3\n",
      "5\n",
      "7\n",
      "11\n",
      "13\n",
      "17\n",
      "19\n",
      "23\n",
      "29\n",
      "31\n",
      "37\n",
      "41\n",
      "43\n",
      "47\n",
      "53\n",
      "59\n",
      "61\n",
      "67\n",
      "71\n",
      "73\n",
      "79\n",
      "83\n",
      "89\n",
      "97\n",
      "101\n",
      "103\n",
      "107\n",
      "109\n",
      "113\n"
     ]
    }
   ],
   "source": [
    "for (const pair of numbers) {\n",
    "    const [number, color] = pair;\n",
    "    if (color === 0) console.log(number);\n",
    "}"
   ]
  },
  {
   "cell_type": "markdown",
   "id": "904aeb13-9536-49ff-ac94-6d567266c419",
   "metadata": {},
   "source": [
    "# References\n",
    "---"
   ]
  },
  {
   "cell_type": "markdown",
   "id": "2e0518c3-8e99-44a7-84cf-2401f3e7644a",
   "metadata": {},
   "source": [
    "- https://www.geeksforgeeks.org/sieve-of-eratosthenes/\n",
    "- https://towardsdatascience.com/how-did-we-get-here-the-story-of-algorithms-9ee186ba2a07#_ftn1\n",
    "- https://en.wikipedia.org/wiki/Sieve_of_Eratosthenes"
   ]
  }
 ],
 "metadata": {
  "kernelspec": {
   "display_name": "JavaScript (Node.js)",
   "language": "javascript",
   "name": "javascript"
  },
  "language_info": {
   "file_extension": ".js",
   "mimetype": "application/javascript",
   "name": "javascript",
   "version": "19.6.0"
  }
 },
 "nbformat": 4,
 "nbformat_minor": 5
}
